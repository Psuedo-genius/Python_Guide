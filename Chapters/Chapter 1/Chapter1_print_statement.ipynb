{
 "cells": [
  {
   "cell_type": "markdown",
   "id": "1ff64498",
   "metadata": {},
   "source": [
    "# Chapter 1: The print() Statement\n",
    "\n",
    "The first step to making Python talk to you."
   ]
  },
  {
   "cell_type": "markdown",
   "id": "063c54a6",
   "metadata": {},
   "source": [
    "Imagine walking up to a robot and saying, “Hey!”\n",
    "And the robot replies: “Hello, world!”\n",
    "\n",
    "That’s what we’re going to do—but with Python.\n",
    "\n",
    "This chapter is all about `print()`—how Python shows output on the screen."
   ]
  },
  {
   "cell_type": "markdown",
   "id": "41681278",
   "metadata": {},
   "source": [
    "## Running Your First Program"
   ]
  },
  {
   "cell_type": "code",
   "execution_count": null,
   "id": "3e31dbaf",
   "metadata": {},
   "outputs": [],
   "source": [
    "print(\"Hello, world!\")"
   ]
  },
  {
   "cell_type": "markdown",
   "id": "549e2600",
   "metadata": {},
   "source": [
    "## What is `print()`?\n",
    "`print()` is a built-in function in Python that displays output on the screen."
   ]
  },
  {
   "cell_type": "markdown",
   "id": "b13dbe07",
   "metadata": {},
   "source": [
    "### Correct Syntax"
   ]
  },
  {
   "cell_type": "code",
   "execution_count": null,
   "id": "7d4fd36a",
   "metadata": {},
   "outputs": [],
   "source": [
    "print(\"Hello, world!\")"
   ]
  },
  {
   "cell_type": "markdown",
   "id": "3a8106de",
   "metadata": {},
   "source": [
    "### Common Errors"
   ]
  },
  {
   "cell_type": "code",
   "execution_count": null,
   "id": "e76d8e27",
   "metadata": {},
   "outputs": [],
   "source": [
    "Print(\"Hello\")  # Capital P (wrong)"
   ]
  },
  {
   "cell_type": "code",
   "execution_count": null,
   "id": "f80dc1cb",
   "metadata": {},
   "outputs": [],
   "source": [
    "print(\"Hello)  # Missing quote (wrong)"
   ]
  },
  {
   "cell_type": "code",
   "execution_count": null,
   "id": "0f6c08d2",
   "metadata": {},
   "outputs": [],
   "source": [
    "print \"Hello\"  # Python 2 style (wrong)"
   ]
  },
  {
   "cell_type": "markdown",
   "id": "84b72720",
   "metadata": {},
   "source": [
    "## Printing Numbers"
   ]
  },
  {
   "cell_type": "code",
   "execution_count": null,
   "id": "702899e5",
   "metadata": {},
   "outputs": [],
   "source": [
    "print(42)"
   ]
  },
  {
   "cell_type": "markdown",
   "id": "10060f59",
   "metadata": {},
   "source": [
    "## Printing Multiple Things"
   ]
  },
  {
   "cell_type": "code",
   "execution_count": null,
   "id": "8e343981",
   "metadata": {},
   "outputs": [],
   "source": [
    "print(\"My name is\", \"Naseem\", \"and I am\", 25, \"years old.\")"
   ]
  },
  {
   "cell_type": "markdown",
   "id": "8dc19481",
   "metadata": {},
   "source": [
    "## Printing with Quotes or Symbols"
   ]
  },
  {
   "cell_type": "code",
   "execution_count": null,
   "id": "600ecd6e",
   "metadata": {},
   "outputs": [],
   "source": [
    "print(\"She said, \\\"Python is cool!\\\"\")"
   ]
  },
  {
   "cell_type": "markdown",
   "id": "ee8f18f5",
   "metadata": {},
   "source": [
    "## Comments in Python\n",
    "Single-line comment:\n",
    "```python\n",
    "# This is a comment\n",
    "```\n",
    "Multi-line comment:\n",
    "```python\n",
    "\"\"\"\n",
    "This is a docstring comment.\n",
    "\"\"\"\n",
    "```"
   ]
  },
  {
   "cell_type": "markdown",
   "id": "0d7f81e6",
   "metadata": {},
   "source": [
    "## Python Indentation Rules"
   ]
  },
  {
   "cell_type": "code",
   "execution_count": null,
   "id": "5f587a05",
   "metadata": {},
   "outputs": [],
   "source": [
    "if True:\n",
    "    print(\"This is indented\")"
   ]
  },
  {
   "cell_type": "markdown",
   "id": "eb535367",
   "metadata": {},
   "source": [
    "## Reflection Prompt\n",
    "- What happens if you forget the closing quote?\n",
    "- What if you use `Print()` instead of `print()`?\n",
    "- What if you omit parentheses?"
   ]
  },
  {
   "cell_type": "markdown",
   "id": "97dbdff2",
   "metadata": {},
   "source": [
    "## Mini Quiz or Challenge\n",
    "1. What will this print?\n",
    "2. Write a line of code that prints your favorite hobby.\n",
    "3. What happens if you forget the parentheses in print?"
   ]
  },
  {
   "cell_type": "markdown",
   "id": "d310e492",
   "metadata": {},
   "source": [
    "## Tips and Common Mistakes\n",
    "✅ Always use quotes for text\n",
    "✅ Use `print()` with parentheses\n",
    "✅ Use commas to print multiple items\n",
    "✅ Add comments using `#`\n",
    "❌ Don’t use `Print()` with a capital P\n",
    "❌ Don’t forget to close quotes or parentheses"
   ]
  },
  {
   "cell_type": "markdown",
   "id": "de87c241",
   "metadata": {},
   "source": [
    "## Summary Recap\n",
    "- `print()` displays output\n",
    "- Use quotes for text\n",
    "- Numbers don’t need quotes\n",
    "- Use escape characters like `\\n`, `\\\"`\n",
    "- Use comments (`#` or `\"\"\"`)\n",
    "- Python requires correct indentation"
   ]
  },
  {
   "cell_type": "markdown",
   "id": "dcdb6979",
   "metadata": {},
   "source": [
    "## Mini‑Project Exercise\n",
    "Create a program that prints a short introduction about yourself."
   ]
  },
  {
   "cell_type": "code",
   "execution_count": null,
   "id": "04fe7f2e",
   "metadata": {},
   "outputs": [],
   "source": [
    "# This program introduces me\n",
    "print(\"My name is Anu.\")\n",
    "print(\"I am 15 years old.\")\n",
    "print(\"I love solving puzzles!\")"
   ]
  },
  {
   "cell_type": "markdown",
   "id": "04acd9e5",
   "metadata": {},
   "source": [
    "## Practice Exercises - Basic"
   ]
  },
  {
   "cell_type": "code",
   "execution_count": null,
   "id": "3fe8a196",
   "metadata": {},
   "outputs": [],
   "source": [
    "print(\"Pizza\")\n",
    "print(10 + 20)\n",
    "# This program prints my name and age\n",
    "print(\"Name:\", \"Alex\", \"Age:\", 21)\n",
    "print(\"She said, \\\"Hello!\\\"\")\n",
    "print(100)\n",
    "print(\"Alex\\nGreenwood High School\")"
   ]
  },
  {
   "cell_type": "markdown",
   "id": "3f9e898e",
   "metadata": {},
   "source": [
    "## Practice Exercises - Intermediate"
   ]
  },
  {
   "cell_type": "code",
   "execution_count": null,
   "id": "5c469268",
   "metadata": {},
   "outputs": [],
   "source": [
    "print(\"Welcome! You are\", 2025 - 2000, \"years old.\")\n",
    "# A small intro program\n",
    "print(\"I enjoy reading.\")\n",
    "print(\"Python is fun!\")\n",
    "print(\"Let's code!\")\n",
    "print(\"He said, \\\"Let's learn Python!\\\"\")"
   ]
  }
 ],
 "metadata": {},
 "nbformat": 4,
 "nbformat_minor": 5
}
