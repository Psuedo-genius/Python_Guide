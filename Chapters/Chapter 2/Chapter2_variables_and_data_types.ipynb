{
 "cells": [
  {
   "cell_type": "markdown",
   "id": "82e9cd2c",
   "metadata": {},
   "source": [
    "# Chapter 2: Variables and Data Types\n",
    "\n",
    "Letting Python remember and understand different kinds of information."
   ]
  },
  {
   "cell_type": "markdown",
   "id": "23d068d0",
   "metadata": {},
   "source": [
    "In Chapter 1, Python talked to us using `print()`.\n",
    "Now it’s time to teach Python how to remember things—using **variables** and **data types**."
   ]
  },
  {
   "cell_type": "markdown",
   "id": "469a2c1a",
   "metadata": {},
   "source": [
    "## What Are Variables?\n",
    "A variable is a name for a value stored in memory. It lets you save information to use later."
   ]
  },
  {
   "cell_type": "code",
   "execution_count": null,
   "id": "2d139b53",
   "metadata": {},
   "outputs": [],
   "source": [
    "name = \"Ravi\"\n",
    "age = 14\n",
    "print(name)\n",
    "print(age)"
   ]
  },
  {
   "cell_type": "markdown",
   "id": "5e2f52a7",
   "metadata": {},
   "source": [
    "## Dynamic Typing in Python\n",
    "Python figures out the type automatically—you don’t need to declare it."
   ]
  },
  {
   "cell_type": "code",
   "execution_count": null,
   "id": "ee2d6231",
   "metadata": {},
   "outputs": [],
   "source": [
    "x = 10\n",
    "print(type(x))\n",
    "x = \"hello\"\n",
    "print(type(x))"
   ]
  },
  {
   "cell_type": "markdown",
   "id": "1e19d134",
   "metadata": {},
   "source": [
    "## Basic Data Types\n",
    "- `str` (String): \"Hello\"\n",
    "- `int` (Integer): 25\n",
    "- `float` (Floating-point): 3.14\n",
    "- `bool` (Boolean): `True`, `False`\n",
    "\n",
    "*Note:*\n",
    "- Strings go inside quotes\n",
    "- Booleans use capital `T`/`F` without quotes"
   ]
  },
  {
   "cell_type": "markdown",
   "id": "8477cfae",
   "metadata": {},
   "source": [
    "## Type Checking with `type()`"
   ]
  },
  {
   "cell_type": "code",
   "execution_count": null,
   "id": "199a201e",
   "metadata": {},
   "outputs": [],
   "source": [
    "name = \"Python\"\n",
    "score = 99\n",
    "pi = 3.141\n",
    "is_happy = True\n",
    "\n",
    "print(type(name))\n",
    "print(type(score))\n",
    "print(type(pi))\n",
    "print(type(is_happy))"
   ]
  },
  {
   "cell_type": "markdown",
   "id": "ac0cc74a",
   "metadata": {},
   "source": [
    "## Type Casting (Changing Types)\n",
    "Convert values using functions like `int()`, `float()`, `str()`, and `bool()`"
   ]
  },
  {
   "cell_type": "code",
   "execution_count": null,
   "id": "794ee4a6",
   "metadata": {},
   "outputs": [],
   "source": [
    "print(int(\"5\"))\n",
    "print(float(\"3.14\"))\n",
    "print(str(42))\n",
    "print(bool(0))\n",
    "print(bool(\"text\"))"
   ]
  },
  {
   "cell_type": "markdown",
   "id": "1e9a5f50",
   "metadata": {},
   "source": [
    "### ⚠️ Casting Errors"
   ]
  },
  {
   "cell_type": "code",
   "execution_count": null,
   "id": "c29dcfc5",
   "metadata": {},
   "outputs": [],
   "source": [
    "int(\"hello\")  # ValueError"
   ]
  },
  {
   "cell_type": "markdown",
   "id": "91d52eff",
   "metadata": {},
   "source": [
    "## 🧠 Mini Quiz or Challenge\n",
    "1. What is the output of `type(3.5)`?\n",
    "2. Convert `99.5` to an integer and print it.\n",
    "3. Convert `True` to a string and print it.\n",
    "4. What happens if you try `int(\"Python\")`?"
   ]
  },
  {
   "cell_type": "markdown",
   "id": "782b1344",
   "metadata": {},
   "source": [
    "## ✅ Tips and Common Mistakes\n",
    "- Use clear, meaningful variable names\n",
    "- Use `type()` to check the type\n",
    "- Don’t name your variables after keywords (like `print`, `int`, or `str`)\n",
    "- Remember: `input()` always gives a string"
   ]
  },
  {
   "cell_type": "markdown",
   "id": "0b809ea1",
   "metadata": {},
   "source": [
    "## 🔁 Summary Recap\n",
    "- Variables store information\n",
    "- Python automatically figures out data types\n",
    "- Common types: `str`, `int`, `float`, `bool`\n",
    "- Use `type()` to check a type\n",
    "- Use `int()`, `float()`, `str()`, `bool()` to convert\n",
    "- Variables can change type (dynamic typing)"
   ]
  },
  {
   "cell_type": "markdown",
   "id": "fa999a0e",
   "metadata": {},
   "source": [
    "## 🎯 Mini‑Project Exercise\n",
    "Build a tiny program that asks for your name and age, then shows how old you’ll be next year."
   ]
  },
  {
   "cell_type": "code",
   "execution_count": null,
   "id": "f4d61f4c",
   "metadata": {},
   "outputs": [],
   "source": [
    "name = input(\"What is your name? \")\n",
    "age = int(input(\"How old are you? \"))\n",
    "print(\"Hi\", name + \"! Next year, you'll be\", age + 1)"
   ]
  },
  {
   "cell_type": "markdown",
   "id": "24eb7cda",
   "metadata": {},
   "source": [
    "## ✅ Practice Exercises - Basic"
   ]
  },
  {
   "cell_type": "code",
   "execution_count": null,
   "id": "53cac198",
   "metadata": {},
   "outputs": [],
   "source": [
    "school = \"Greenwood High\"\n",
    "print(school)\n",
    "\n",
    "birth_year = 2010\n",
    "print(\"Current age:\", 2025 - birth_year)\n",
    "\n",
    "print(float(\"9.5\"))\n",
    "\n",
    "is_ready = True\n",
    "print(is_ready)\n",
    "\n",
    "x = 10\n",
    "y = \"hello\"\n",
    "z = 3.14\n",
    "print(type(x))\n",
    "print(type(y))\n",
    "print(type(z))"
   ]
  },
  {
   "cell_type": "markdown",
   "id": "6ccc32bf",
   "metadata": {},
   "source": [
    "## 🚀 Practice Exercises - Intermediate"
   ]
  },
  {
   "cell_type": "code",
   "execution_count": null,
   "id": "9bb232a9",
   "metadata": {},
   "outputs": [],
   "source": [
    "height_feet = float(input(\"Enter your height in feet: \"))\n",
    "print(\"Height in inches:\", height_feet * 12)\n",
    "\n",
    "birth_year = int(input(\"What is your birth year? \"))\n",
    "print(\"Your age in 2025:\", 2025 - birth_year)\n",
    "\n",
    "int_var = int(input(\"Enter an integer: \"))\n",
    "float_var = float(input(\"Enter a float: \"))\n",
    "str_var = input(\"Enter a string: \")\n",
    "bool_var = bool(input(\"Enter something (will be treated as boolean): \"))\n",
    "print(type(int_var), type(float_var), type(str_var), type(bool_var))"
   ]
  }
 ],
 "metadata": {},
 "nbformat": 4,
 "nbformat_minor": 5
}
